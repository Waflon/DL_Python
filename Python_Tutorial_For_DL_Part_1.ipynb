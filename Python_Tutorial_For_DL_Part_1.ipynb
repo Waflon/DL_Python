{
  "nbformat": 4,
  "nbformat_minor": 0,
  "metadata": {
    "colab": {
      "name": "Python Tutorial For DL Part 1.ipynb",
      "provenance": [],
      "collapsed_sections": [],
      "authorship_tag": "ABX9TyNQEd6xHA3NkhrHnvkpdK7G",
      "include_colab_link": true
    },
    "kernelspec": {
      "name": "python3",
      "display_name": "Python 3"
    },
    "language_info": {
      "name": "python"
    }
  },
  "cells": [
    {
      "cell_type": "markdown",
      "metadata": {
        "id": "view-in-github",
        "colab_type": "text"
      },
      "source": [
        "<a href=\"https://colab.research.google.com/github/Waflon/DL_Python/blob/main/Python_Tutorial_For_DL_Part_1.ipynb\" target=\"_parent\"><img src=\"https://colab.research.google.com/assets/colab-badge.svg\" alt=\"Open In Colab\"/></a>"
      ]
    },
    {
      "cell_type": "markdown",
      "metadata": {
        "id": "HMgkqrGvQSO_"
      },
      "source": [
        "---\n",
        "# Python Básico\n",
        "---\n",
        "\n",
        "Tutorial orientado a la utilización de python, sus principales caracteristicas y como llegar eventualmente a un Deep Learning y AI\n",
        "primero que todo, comenzar presionando arriba a la derecha \"Conectar\"\n"
      ]
    },
    {
      "cell_type": "markdown",
      "metadata": {
        "id": "g-ZVc_NJSaZ9"
      },
      "source": [
        "---\n",
        "## Acerca de Jupyter notebook\n",
        "---\n",
        "Algunos comandos comunes son: luego de ingresar algún valor dentro de la sección de Code, se puede presionar \"Ctrl + ENTER\" o \"Shift + ENTER\" para Ver si la linea de texto es correcta, si lo llegará a ser, la procesa y la ejecuta.\n",
        "\n"
      ]
    },
    {
      "cell_type": "markdown",
      "metadata": {
        "id": "nseMvFnFUCAK"
      },
      "source": [
        "Para comenzar, se pueden hacer casi cualquier operación matemática de forma directa y el output será el resultado, estos datos se pierden después de la ejecución, ahí es donde entran en juegos las variables."
      ]
    },
    {
      "cell_type": "markdown",
      "metadata": {
        "id": "2Rw8NWe3X8cE"
      },
      "source": [
        "El shortcut para una nueva línea de código de forma  se escribe con CTRL + M + B.\n",
        "Se puede además hacer categorías en los cuadros de texto como este mismo, poniendo un # haces un tema y con ## haces un subtema en el lado izquierdo del notebook (El índice de el archivo)"
      ]
    },
    {
      "cell_type": "markdown",
      "metadata": {
        "id": "pKLyeo10QRi8"
      },
      "source": [
        "---\n",
        "# Variables\n",
        "---\n",
        "Las variables tienen una letra o una palabra que las representa, para inicializarla, se pone la variable seguida de el valor que se desea que tenga (estos datos pueden ser: int, float, string, boolean, etc). A diferencia de otros lenguajes, Python tiene la caracteristica de asignar automaticamente el tipo de dato, sin que el usuario deba agregarlo.\n",
        "\n"
      ]
    },
    {
      "cell_type": "code",
      "metadata": {
        "id": "5LkfaMURTAp6"
      },
      "source": [
        "a = 5\n",
        "b = 4.9\n",
        "c = 'Ryan'"
      ],
      "execution_count": null,
      "outputs": []
    },
    {
      "cell_type": "code",
      "metadata": {
        "colab": {
          "base_uri": "https://localhost:8080/"
        },
        "id": "InqSKlEAXNjW",
        "outputId": "13e023d2-7687-4cd0-8c6b-558d18f5f072"
      },
      "source": [
        "a, b, c"
      ],
      "execution_count": null,
      "outputs": [
        {
          "output_type": "execute_result",
          "data": {
            "text/plain": [
              "(5, 4.9, 'Waflon')"
            ]
          },
          "metadata": {},
          "execution_count": 22
        }
      ]
    },
    {
      "cell_type": "markdown",
      "metadata": {
        "id": "arrU6LRfXFDW"
      },
      "source": [
        "Puede hacerse la muestra de datos, separados por una coma."
      ]
    },
    {
      "cell_type": "markdown",
      "metadata": {
        "id": "s7Zd4aToV7Jc"
      },
      "source": [
        "Es de suma importancia que a las variables, aparte de asignarles valores, además le agreguemos un nombre relevante y reconocible.\n",
        "Para el ejemplo, usaremos la funcion print, la cual retorna el valor de la variable."
      ]
    },
    {
      "cell_type": "code",
      "metadata": {
        "colab": {
          "base_uri": "https://localhost:8080/"
        },
        "id": "EmrapVSwVxmw",
        "outputId": "b0b1705d-c1ed-4aab-f7f5-9e4385cb5f96"
      },
      "source": [
        "ejemploInt = 7\n",
        "print(ejemploInt)"
      ],
      "execution_count": null,
      "outputs": [
        {
          "output_type": "stream",
          "name": "stdout",
          "text": [
            "7\n"
          ]
        }
      ]
    },
    {
      "cell_type": "markdown",
      "metadata": {
        "id": "rgRP-GqZXV7x"
      },
      "source": [
        "Para agregar comentarios (Los cuales se verán de un color verde usualmente, usamos el símbolo gato #. Pueden ser escritos directamente en el texto y no afectan la ejecución de este.\n"
      ]
    },
    {
      "cell_type": "code",
      "metadata": {
        "colab": {
          "base_uri": "https://localhost:8080/",
          "height": 35
        },
        "id": "vX-LNLUFZbrI",
        "outputId": "9353ce03-6b59-48d3-9bd9-26ee64d88476"
      },
      "source": [
        "# Esto es un comentario"
      ],
      "execution_count": null,
      "outputs": [
        {
          "output_type": "execute_result",
          "data": {
            "application/vnd.google.colaboratory.intrinsic+json": {
              "type": "string"
            },
            "text/plain": [
              "'Esto '"
            ]
          },
          "metadata": {},
          "execution_count": 31
        }
      ]
    },
    {
      "cell_type": "code",
      "metadata": {
        "colab": {
          "base_uri": "https://localhost:8080/"
        },
        "id": "WnBqnE6nZuoY",
        "outputId": "e4bff0c6-e83f-4ad1-a63c-86a5fd8ae9d7"
      },
      "source": [
        "palabra = \"texto con comentario\" # Comentario después de código\n",
        "print(palabra)"
      ],
      "execution_count": null,
      "outputs": [
        {
          "output_type": "stream",
          "name": "stdout",
          "text": [
            "texto con comentario\n"
          ]
        }
      ]
    },
    {
      "cell_type": "markdown",
      "metadata": {
        "id": "v5PAJIzoXSFO"
      },
      "source": [
        "De la misma forma, dentro del print pueden ir multiples variables."
      ]
    },
    {
      "cell_type": "markdown",
      "metadata": {
        "id": "kj67NOzMWvNL"
      },
      "source": [
        "En el caso de las variables de tipo texto (Strings), se pueden utilizar '' o \"\" para poner dentro el texto de la variable."
      ]
    },
    {
      "cell_type": "code",
      "metadata": {
        "colab": {
          "base_uri": "https://localhost:8080/"
        },
        "id": "ahqgh-yeWI2T",
        "outputId": "c329ca58-83a7-4ba2-ed08-e8c7dba2def8"
      },
      "source": [
        "user_name = \"Person\"\n",
        "person = 'Natasha'\n",
        "print(user_name)\n",
        "print(user_name)"
      ],
      "execution_count": null,
      "outputs": [
        {
          "output_type": "stream",
          "name": "stdout",
          "text": [
            "Person\n",
            "Person\n"
          ]
        }
      ]
    },
    {
      "cell_type": "markdown",
      "metadata": {
        "id": "7Je4P452YQR5"
      },
      "source": [
        "Así mismo se puede usar la función type(), la cual retorna el tipo de dato de la variable. Y podemos usar un print además para recibir la información de forma un poco más precisa."
      ]
    },
    {
      "cell_type": "code",
      "metadata": {
        "colab": {
          "base_uri": "https://localhost:8080/"
        },
        "id": "PVRyOgr-YPh9",
        "outputId": "db415160-e420-4d5d-8fb3-10cd10b79c10"
      },
      "source": [
        "type(user_name)"
      ],
      "execution_count": null,
      "outputs": [
        {
          "output_type": "execute_result",
          "data": {
            "text/plain": [
              "str"
            ]
          },
          "metadata": {},
          "execution_count": 24
        }
      ]
    },
    {
      "cell_type": "code",
      "metadata": {
        "colab": {
          "base_uri": "https://localhost:8080/"
        },
        "id": "wR3vG9yEWlJr",
        "outputId": "ab1fdb31-4f63-4d85-ba22-a66a201a0f03"
      },
      "source": [
        "type(person)"
      ],
      "execution_count": null,
      "outputs": [
        {
          "output_type": "execute_result",
          "data": {
            "text/plain": [
              "str"
            ]
          },
          "metadata": {},
          "execution_count": 25
        }
      ]
    },
    {
      "cell_type": "code",
      "metadata": {
        "colab": {
          "base_uri": "https://localhost:8080/"
        },
        "id": "f8kHa-2sYYcu",
        "outputId": "cc64399f-5249-4c09-d3b9-4164167df2de"
      },
      "source": [
        "print(type(user_name), type(person))"
      ],
      "execution_count": null,
      "outputs": [
        {
          "output_type": "stream",
          "name": "stdout",
          "text": [
            "<class 'str'> <class 'str'>\n"
          ]
        }
      ]
    },
    {
      "cell_type": "code",
      "metadata": {
        "colab": {
          "base_uri": "https://localhost:8080/"
        },
        "id": "QT1r9C9zYb8v",
        "outputId": "5be540b5-3739-422c-a4b6-44c423a20557"
      },
      "source": [
        "print(type(a), type(b), type(c))"
      ],
      "execution_count": null,
      "outputs": [
        {
          "output_type": "stream",
          "name": "stdout",
          "text": [
            "<class 'int'> <class 'float'> <class 'str'>\n"
          ]
        }
      ]
    },
    {
      "cell_type": "markdown",
      "metadata": {
        "id": "NM4iixZZaGQg"
      },
      "source": [
        "También en Python se puede inicializar más de una variable en la misma línea."
      ]
    },
    {
      "cell_type": "code",
      "metadata": {
        "id": "iCS_c6yeYyak"
      },
      "source": [
        "a, b, c = \"Pedrito\", 5, 3.5"
      ],
      "execution_count": null,
      "outputs": []
    },
    {
      "cell_type": "markdown",
      "metadata": {
        "id": "23EiTS7Kabev"
      },
      "source": [
        "Esto además modificará las variables a, b, c declaradas previamente dentro del código."
      ]
    },
    {
      "cell_type": "code",
      "metadata": {
        "colab": {
          "base_uri": "https://localhost:8080/"
        },
        "id": "EKp6MFv3agEq",
        "outputId": "9f6c9576-aee8-4dab-bf4e-f34267db74f6"
      },
      "source": [
        "print(type(a), type(b), type(c))"
      ],
      "execution_count": null,
      "outputs": [
        {
          "output_type": "stream",
          "name": "stdout",
          "text": [
            "<class 'str'> <class 'int'> <class 'float'>\n"
          ]
        }
      ]
    },
    {
      "cell_type": "markdown",
      "metadata": {
        "id": "_PFYcUDwEKKH"
      },
      "source": [
        "Para imprimir con formato usamos print(f\"\") y dentro de los parentesis ponemos entre {} la variable que queremos mostrar"
      ]
    },
    {
      "cell_type": "code",
      "metadata": {
        "colab": {
          "base_uri": "https://localhost:8080/"
        },
        "id": "ofWaxssMEUTo",
        "outputId": "2e5f80c6-dbb3-4585-bba6-f51afdcc5953"
      },
      "source": [
        "print(f\"Muestra de format Print con el valor {a}\")"
      ],
      "execution_count": null,
      "outputs": [
        {
          "output_type": "stream",
          "name": "stdout",
          "text": [
            "Muestra de format Print con el valor Pedrito\n"
          ]
        }
      ]
    },
    {
      "cell_type": "markdown",
      "metadata": {
        "id": "Dy_cXG6VbRWU"
      },
      "source": [
        "Una herramienta potente es %whos, la cual nos permite ver el listado total de las variables, tipo de dato y su Data."
      ]
    },
    {
      "cell_type": "code",
      "metadata": {
        "id": "Vfea-xvaamz3",
        "colab": {
          "base_uri": "https://localhost:8080/"
        },
        "outputId": "78c0af78-f1ac-4e1c-d284-e36b80171022"
      },
      "source": [
        "%whos"
      ],
      "execution_count": null,
      "outputs": [
        {
          "output_type": "stream",
          "name": "stdout",
          "text": [
            "Variable     Type     Data/Info\n",
            "-------------------------------\n",
            "a            str      Pedrito\n",
            "b            int      5\n",
            "c            float    3.5\n",
            "ejemploInt   int      7\n",
            "palabra      str      texto con comentario\n",
            "person       str      Natasha\n",
            "user_name    str      Person\n"
          ]
        }
      ]
    },
    {
      "cell_type": "markdown",
      "metadata": {
        "id": "3iNUjBJ7rNrE"
      },
      "source": [
        "---\n",
        "## Math and Printing\n",
        "---"
      ]
    },
    {
      "cell_type": "markdown",
      "metadata": {
        "id": "LbAxU3oQrYGQ"
      },
      "source": [
        "## Operaciones matemáticas con: + - * / "
      ]
    },
    {
      "cell_type": "code",
      "metadata": {
        "colab": {
          "base_uri": "https://localhost:8080/"
        },
        "id": "aXrqyqT0rQp0",
        "outputId": "8f828a3a-8b14-489f-9cb9-ea2c9fa04dc6"
      },
      "source": [
        "print(4/3) "
      ],
      "execution_count": null,
      "outputs": [
        {
          "output_type": "stream",
          "name": "stdout",
          "text": [
            "1.3333333333333333\n"
          ]
        }
      ]
    },
    {
      "cell_type": "markdown",
      "metadata": {
        "id": "bSOFc6k-vtJV"
      },
      "source": [
        "El orden de las operaciones es el mismo que la matemática tradicional, primero / y * luego + y -"
      ]
    },
    {
      "cell_type": "code",
      "metadata": {
        "colab": {
          "base_uri": "https://localhost:8080/"
        },
        "id": "dWDBuSYdvfzm",
        "outputId": "ab305413-ee5d-48fc-8329-60cb8425301a"
      },
      "source": [
        "print(4/2 + 5) "
      ],
      "execution_count": null,
      "outputs": [
        {
          "output_type": "stream",
          "name": "stdout",
          "text": [
            "7.0\n"
          ]
        }
      ]
    },
    {
      "cell_type": "markdown",
      "metadata": {
        "id": "RqE588jBsmTH"
      },
      "source": [
        "El slash inverso significa varias cosas según el lenguaje, en este caso, nos sirve para hacer la continuación de la línea (Sirve principalmente para cuando se tienen líneas de código muy largas."
      ]
    },
    {
      "cell_type": "code",
      "metadata": {
        "colab": {
          "base_uri": "https://localhost:8080/"
        },
        "id": "q88sEevVsB3g",
        "outputId": "280dad8a-9e9f-48a0-f31d-4dc876b4fd6e"
      },
      "source": [
        "4 \\\n",
        "  + 3"
      ],
      "execution_count": null,
      "outputs": [
        {
          "output_type": "execute_result",
          "data": {
            "text/plain": [
              "7"
            ]
          },
          "metadata": {},
          "execution_count": 48
        }
      ]
    },
    {
      "cell_type": "markdown",
      "metadata": {
        "id": "RlFBrnTGtWk9"
      },
      "source": [
        "---\n",
        "## Potencias\n",
        "---\n",
        "Podemos utilizar también ** para potencias y si se sabe de matemáticas, la potencia permite obtener las raices."
      ]
    },
    {
      "cell_type": "code",
      "metadata": {
        "colab": {
          "base_uri": "https://localhost:8080/"
        },
        "id": "Ovo-zwN5sH5B",
        "outputId": "8d200c73-12ae-43e8-da24-c85216bcbf6f"
      },
      "source": [
        "2**3 # 2 potencia de 3"
      ],
      "execution_count": null,
      "outputs": [
        {
          "output_type": "execute_result",
          "data": {
            "text/plain": [
              "81"
            ]
          },
          "metadata": {},
          "execution_count": 50
        }
      ]
    },
    {
      "cell_type": "code",
      "metadata": {
        "colab": {
          "base_uri": "https://localhost:8080/"
        },
        "id": "4KY63rlLtqLD",
        "outputId": "c6b1abe0-8e0c-429e-bc17-8155176a1405"
      },
      "source": [
        "9**(1/2) # raiz cuadrada de 9"
      ],
      "execution_count": null,
      "outputs": [
        {
          "output_type": "execute_result",
          "data": {
            "text/plain": [
              "3.0"
            ]
          },
          "metadata": {},
          "execution_count": 53
        }
      ]
    },
    {
      "cell_type": "code",
      "metadata": {
        "colab": {
          "base_uri": "https://localhost:8080/"
        },
        "id": "Fo0UMCuttwR7",
        "outputId": "aa9cd9b0-83b8-436f-837f-5c28ed0aa55e"
      },
      "source": [
        "16**(1/4) # raíz a la cuarta de 16"
      ],
      "execution_count": null,
      "outputs": [
        {
          "output_type": "execute_result",
          "data": {
            "text/plain": [
              "2.0"
            ]
          },
          "metadata": {},
          "execution_count": 56
        }
      ]
    },
    {
      "cell_type": "markdown",
      "metadata": {
        "id": "OcVMkFjaucEH"
      },
      "source": [
        "Hay que tener cuidado con el orden de las operaciónes, ya que en orden, toma prioridad la potencia y luego el resto de las operaciones tradicionales, por lo tanto, poner los valores de la potencia en paréntesis."
      ]
    },
    {
      "cell_type": "code",
      "metadata": {
        "colab": {
          "base_uri": "https://localhost:8080/"
        },
        "id": "Zlg_Jad3uTcn",
        "outputId": "65b5e5b9-716c-4862-e362-2ea664220066"
      },
      "source": [
        "16**1/4 # acá se procesa 16** y luego lo divide por 4 (No lo que se busca)"
      ],
      "execution_count": null,
      "outputs": [
        {
          "output_type": "execute_result",
          "data": {
            "text/plain": [
              "4.0"
            ]
          },
          "metadata": {},
          "execution_count": 58
        }
      ]
    },
    {
      "cell_type": "markdown",
      "metadata": {
        "id": "X53e-LtVwhbE"
      },
      "source": [
        "---\n",
        "## Overloading\n",
        "---\n",
        "Se llama Overloading al proceso de utilizar operaciones matemáticas en Strings o otros tipos de datos."
      ]
    },
    {
      "cell_type": "code",
      "metadata": {
        "colab": {
          "base_uri": "https://localhost:8080/"
        },
        "id": "mySq8PpSwgu3",
        "outputId": "f0910f59-aca1-40df-cc07-5bf9afe8e940"
      },
      "source": [
        "nombre   = 'Mario'  \n",
        "apellido = 'Lopez'\n",
        "# Overloading\n",
        "print(nombre + apellido )# La suma se transforma en concatenacion\n",
        "print(nombre + ' ' + apellido) # se puede concatenar además con un espacio o un símbolo\n",
        "print(nombre*3 + ' ' + apellido*2) # se pueden además repetir los string con un *\n",
        "# No se puede utilizar el - ni el / (Python arroja error porque no entiende que hacer)"
      ],
      "execution_count": null,
      "outputs": [
        {
          "output_type": "stream",
          "name": "stdout",
          "text": [
            "MarioLopez\n",
            "Mario Lopez\n",
            "MarioMarioMario LopezLopez\n"
          ]
        }
      ]
    },
    {
      "cell_type": "markdown",
      "metadata": {
        "id": "n3bgEBqmyuXF"
      },
      "source": [
        "si se quiere imprimir los datos, pero a modo de texto y no de operación matemática, los tranformamos en string con la función str()."
      ]
    },
    {
      "cell_type": "code",
      "metadata": {
        "colab": {
          "base_uri": "https://localhost:8080/"
        },
        "id": "M2lgRFBJur9Z",
        "outputId": "8ba1eca4-ed59-43c5-8c75-214638cba106"
      },
      "source": [
        "x = 3\n",
        "y = 4\n",
        "print(str(x) + ' + ' + str(y) + ' = ' + str(x+y))\n",
        "# Esto es solo una representación, Python no está procesando las variables matemáticamente"
      ],
      "execution_count": null,
      "outputs": [
        {
          "output_type": "stream",
          "name": "stdout",
          "text": [
            "3 + 4 = 7\n"
          ]
        }
      ]
    },
    {
      "cell_type": "markdown",
      "metadata": {
        "id": "dLACeonX0-1t"
      },
      "source": [
        "---\n",
        "## Input\n",
        "---\n",
        "Para cuando se requiere que el usuario ingrese el valor que desee asignar a una variable determinada, podemos utilizar la funcion de input."
      ]
    },
    {
      "cell_type": "code",
      "metadata": {
        "colab": {
          "base_uri": "https://localhost:8080/"
        },
        "id": "0QV2iioLxhXO",
        "outputId": "8fa9c61e-a70b-4b2a-a04f-559d0221f583"
      },
      "source": [
        "ans = input(\"Give me a number: \") # Esto se guarda como un dato de tipo entero"
      ],
      "execution_count": null,
      "outputs": [
        {
          "name": "stdout",
          "output_type": "stream",
          "text": [
            "Give me a number: 3\n"
          ]
        }
      ]
    },
    {
      "cell_type": "markdown",
      "metadata": {
        "id": "LMyHfnm944Ta"
      },
      "source": [
        "Si se quiere sumar la respuesta con un Entero (como por ejemplo ans + 5) , el programa arrojará un error ya que ans queda como tipo de dato String.\n",
        "Lo que se puede hacer es transformar el tipo de dato con la funcion int()."
      ]
    },
    {
      "cell_type": "code",
      "metadata": {
        "colab": {
          "base_uri": "https://localhost:8080/"
        },
        "id": "85NYKltf0936",
        "outputId": "92dea9ac-6adb-4c2e-c53d-7540d6bee416"
      },
      "source": [
        "int(ans)+ 4 # Áca no arroja ningún error, ya que son el mismo tipo de datos"
      ],
      "execution_count": null,
      "outputs": [
        {
          "output_type": "execute_result",
          "data": {
            "text/plain": [
              "7"
            ]
          },
          "metadata": {},
          "execution_count": 92
        }
      ]
    },
    {
      "cell_type": "markdown",
      "metadata": {
        "id": "xHTVyENW5ZXo"
      },
      "source": [
        "También se puede trabajar de forma directa con una función dentro de otra función."
      ]
    },
    {
      "cell_type": "code",
      "metadata": {
        "colab": {
          "base_uri": "https://localhost:8080/"
        },
        "id": "QQ6yZsNw4iB4",
        "outputId": "1ad9443e-b837-499e-e85f-0cc88d3e0dea"
      },
      "source": [
        "ans = int(input(\"Give me a number: \"))\n",
        "ans + 3"
      ],
      "execution_count": null,
      "outputs": [
        {
          "name": "stdout",
          "output_type": "stream",
          "text": [
            "Give me a number: 2\n"
          ]
        },
        {
          "output_type": "execute_result",
          "data": {
            "text/plain": [
              "5"
            ]
          },
          "metadata": {},
          "execution_count": 90
        }
      ]
    },
    {
      "cell_type": "markdown",
      "metadata": {
        "id": "12HdPH4n6HKL"
      },
      "source": [
        "\n",
        "---\n",
        "## Ejercicio de reforzamiento:\n",
        "---\n",
        "Resolver el triangulo de pitágoras teniendo 2 catetos."
      ]
    },
    {
      "cell_type": "code",
      "metadata": {
        "colab": {
          "base_uri": "https://localhost:8080/"
        },
        "id": "nDOLciBW6GgE",
        "outputId": "e676408e-fb30-4c8a-ff59-4c66e0171eb1"
      },
      "source": [
        "# c**2 = a**2 + b**2\n",
        "ladoA = float(input('Ingresa el largo del cateto A: '))\n",
        "ladoB = float(input('Ingresa el largo del cateto B: '))\n",
        "ladoC = ladoA**2 + ladoB**2\n",
        "print(f\"El valor de la hipotenusa es de: {ladoC}\")"
      ],
      "execution_count": null,
      "outputs": [
        {
          "output_type": "stream",
          "name": "stdout",
          "text": [
            "Ingresa el largo del LadoA: 3\n",
            "Ingresa el largo del LadoB: 4\n",
            "25.0\n"
          ]
        }
      ]
    },
    {
      "cell_type": "markdown",
      "metadata": {
        "id": "s7-DTAAS7-R5"
      },
      "source": [
        "Hacer lo mismo pero con un lado y la hipotenusa."
      ]
    },
    {
      "cell_type": "code",
      "metadata": {
        "colab": {
          "base_uri": "https://localhost:8080/"
        },
        "id": "lO61OasP5z6z",
        "outputId": "bd9f80d4-7633-4291-89d1-41dc6e9ccc6a"
      },
      "source": [
        "ladoA = float(input(\"Ingresa el valor del Lado A: \"))\n",
        "ladoC = float(input(\"Ingresa el valor de la Hipotenusa: \"))\n",
        "ladoB = (ladoC**2 - ladoA**2)**(1/2)\n",
        "print(f\"El valor del cateto faltante es de: {ladoB}\")"
      ],
      "execution_count": null,
      "outputs": [
        {
          "output_type": "stream",
          "name": "stdout",
          "text": [
            "Ingresa el valor del Lado A: 4\n",
            "Ingresa el valor de la Hipotenusa: 2\n",
            "El valor del cateto faltante es de: (2.1211504774498136e-16+3.4641016151377544j)\n"
          ]
        }
      ]
    },
    {
      "cell_type": "markdown",
      "metadata": {
        "id": "2SzK0AzV_DEj"
      },
      "source": [
        "---\n",
        "##Lists\n",
        "--- \n",
        "Dentro de las variables, también tenemos la variable de tipo lista, que nos permite tener un conjunto de datos. Estos pueden ser del mismo tipo de datos o de distintos tipos de datos."
      ]
    },
    {
      "cell_type": "code",
      "metadata": {
        "id": "4e2TrF-J_Frk"
      },
      "source": [
        "numList = [1, 1, 1, 2, 2, 3, 4, 5]\n",
        "strList = [\"lista\", \"de\", \"textos\"]\n",
        "mixList = [1, 2, \"texto\", 4, \"más texto\"]\n",
        "listoflists = [1, 2, 3, \"hi\", \"bye\", [0.5, 1/4, 'i'], 4, 5.4]"
      ],
      "execution_count": null,
      "outputs": []
    },
    {
      "cell_type": "markdown",
      "metadata": {
        "id": "HMAZkrhSBJBQ"
      },
      "source": [
        "Esta lista de listas queda muy desordenada, por lo que se puede hacer una organizacipon vertical, la cual nos permite comentar y visualizas de mejor manera los datos, de modo que tengan más sentido."
      ]
    },
    {
      "cell_type": "code",
      "metadata": {
        "id": "UtmBe-5HABer"
      },
      "source": [
        "listoflists = [\n",
        "               1,               # Números enteros\n",
        "               2,               # se puede comentar de forma más simple\n",
        "               3,               # y hacer acotaciones cuando sea adecuado\n",
        "               \"hi\",            # como por ejemplo acá donde empiezan los string\n",
        "               \"bye\",           # un segundo string\n",
        "               [0.5, 1/4, 'i'], # o acá ya que es una lista completa como variable\n",
        "               4,               # luego otro número entero\n",
        "               5.4              # finalmente un float\n",
        "               ] "
      ],
      "execution_count": null,
      "outputs": []
    },
    {
      "cell_type": "markdown",
      "metadata": {
        "id": "2RZXx8g5Ca28"
      },
      "source": [
        "Si queremos buscar un elemento en un lista usamos las palabras reservadas in y not."
      ]
    },
    {
      "cell_type": "code",
      "metadata": {
        "colab": {
          "base_uri": "https://localhost:8080/"
        },
        "id": "XxGt9_slCjV8",
        "outputId": "763cb1e3-0a09-45dc-f6dd-8afa20d6539f"
      },
      "source": [
        "4 in numList # Pregunta si existe un elemento dentro de la lista y retorna un boolean True"
      ],
      "execution_count": null,
      "outputs": [
        {
          "output_type": "execute_result",
          "data": {
            "text/plain": [
              "True"
            ]
          },
          "metadata": {},
          "execution_count": 110
        }
      ]
    },
    {
      "cell_type": "code",
      "metadata": {
        "colab": {
          "base_uri": "https://localhost:8080/"
        },
        "id": "x7RtJXMwC_Mm",
        "outputId": "c00d48da-271b-4b48-e599-92ac9ae8811d"
      },
      "source": [
        "49 in numList # Si la condición no se da, se retorna el booleando False"
      ],
      "execution_count": null,
      "outputs": [
        {
          "output_type": "execute_result",
          "data": {
            "text/plain": [
              "False"
            ]
          },
          "metadata": {},
          "execution_count": 111
        }
      ]
    },
    {
      "cell_type": "code",
      "metadata": {
        "colab": {
          "base_uri": "https://localhost:8080/"
        },
        "id": "ky3_f573DDU1",
        "outputId": "7d13402d-8263-4da2-9dcf-7516a84abe82"
      },
      "source": [
        "40 not in numList # pregunta si un valor NO está en la lista"
      ],
      "execution_count": null,
      "outputs": [
        {
          "output_type": "execute_result",
          "data": {
            "text/plain": [
              "True"
            ]
          },
          "metadata": {},
          "execution_count": 113
        }
      ]
    },
    {
      "cell_type": "code",
      "metadata": {
        "colab": {
          "base_uri": "https://localhost:8080/"
        },
        "id": "I58BsKQKCTSJ",
        "outputId": "a0c4fe6d-443e-4ec7-a72f-059738ca512c"
      },
      "source": [
        "print(listoflists)\n",
        "print([0.5, 0.25, 'i'] in listoflists) # pregunta si existe la lista en listoflists"
      ],
      "execution_count": null,
      "outputs": [
        {
          "output_type": "stream",
          "name": "stdout",
          "text": [
            "[1, 2, 3, 'hi', 'bye', [0.5, 0.25, 'i'], 4, 5.4]\n",
            "True\n"
          ]
        }
      ]
    },
    {
      "cell_type": "markdown",
      "metadata": {
        "id": "ZPosUrTWDnnt"
      },
      "source": [
        "---\n",
        "# Methods\n",
        "---\n",
        "Es como una función, pero la sintaxis es ligueramente diferente, ya que usamos un . luego del elemento para llamar al método.\n",
        "Algunos ejemplos de Metodos son:\n",
        "```\n",
        ".append()\n",
        ".sort() \n",
        ".count()\n",
        ".insert()\n",
        ".remove()\n",
        "```\n",
        "\n"
      ]
    },
    {
      "cell_type": "code",
      "metadata": {
        "colab": {
          "base_uri": "https://localhost:8080/"
        },
        "id": "-E2iDWwPCVN5",
        "outputId": "f37a0597-a9a3-4934-da25-289eb9964457"
      },
      "source": [
        "# functions\n",
        "print(numList)\n",
        "len(numList)\n",
        "type(numList)\n",
        "\n",
        "# methods\n",
        "numList.append(-1) # Agrega al final de la lista un valor\n",
        "print(numList)"
      ],
      "execution_count": null,
      "outputs": [
        {
          "output_type": "stream",
          "name": "stdout",
          "text": [
            "[1, 1, 1, 2, 2, 3, 4, 5]\n",
            "[1, 1, 1, 2, 2, 3, 4, 5, -1]\n"
          ]
        }
      ]
    },
    {
      "cell_type": "code",
      "metadata": {
        "colab": {
          "base_uri": "https://localhost:8080/"
        },
        "id": "7rgGe089E3-g",
        "outputId": "3ab2f464-4478-4e3b-f6fd-1b64f131b495"
      },
      "source": [
        "numList.sort() # Ordena ascendientemente la lista\n",
        "print(numList)\n",
        "numList.sort(reverse=True) # Ordena descendientemente la lista\n",
        "print(numList)"
      ],
      "execution_count": null,
      "outputs": [
        {
          "output_type": "stream",
          "name": "stdout",
          "text": [
            "[-1, 1, 1, 1, 2, 2, 3, 4, 5]\n",
            "[5, 4, 3, 2, 2, 1, 1, 1, -1]\n"
          ]
        }
      ]
    },
    {
      "cell_type": "markdown",
      "metadata": {
        "id": "GYnPYMAoH6K7"
      },
      "source": [
        "Si usamos la lista Mixta y queremos usar el método sort, este arrojará un error, ya que no se pueden ordenar números y letras juntos, solo se pueden ordenas listas con los mismos tipos de datos."
      ]
    },
    {
      "cell_type": "code",
      "metadata": {
        "colab": {
          "base_uri": "https://localhost:8080/"
        },
        "id": "zKp3WvYQFV8F",
        "outputId": "474fa1d5-baac-409d-eb26-193740aaf177"
      },
      "source": [
        "numList.count(1) # Cuenta la cantidad de veces que se repite un valor"
      ],
      "execution_count": null,
      "outputs": [
        {
          "output_type": "execute_result",
          "data": {
            "text/plain": [
              "3"
            ]
          },
          "metadata": {},
          "execution_count": 133
        }
      ]
    },
    {
      "cell_type": "markdown",
      "metadata": {
        "id": "HBaTbDGLI7nE"
      },
      "source": [
        "El method insert() recibe 2 valores, el indice donde se desea agregar el dato y el dato a agregar."
      ]
    },
    {
      "cell_type": "code",
      "metadata": {
        "id": "Cp0u8n6GHASM"
      },
      "source": [
        "mixList.insert(1, \"Hola\")  #(index, value)\n",
        "print(mixList)"
      ],
      "execution_count": null,
      "outputs": []
    },
    {
      "cell_type": "code",
      "metadata": {
        "colab": {
          "base_uri": "https://localhost:8080/",
          "height": 35
        },
        "id": "XL-o8N3NIdGh",
        "outputId": "46ade57a-e3b3-43ed-84e3-81065a143260"
      },
      "source": [
        "a"
      ],
      "execution_count": null,
      "outputs": [
        {
          "output_type": "execute_result",
          "data": {
            "application/vnd.google.colaboratory.intrinsic+json": {
              "type": "string"
            },
            "text/plain": [
              "'Pedrito'"
            ]
          },
          "metadata": {},
          "execution_count": 138
        }
      ]
    },
    {
      "cell_type": "markdown",
      "metadata": {
        "id": "rPsVomsPWf_w"
      },
      "source": [
        "---\n",
        "#Booleans\n",
        "---"
      ]
    },
    {
      "cell_type": "code",
      "metadata": {
        "colab": {
          "base_uri": "https://localhost:8080/"
        },
        "id": "G1VqcQ6JWkBH",
        "outputId": "02c08100-6fd2-4fcf-e388-efa846d80e3a"
      },
      "source": [
        "# Es un tipo de dato binario, es el más básico de todos\n",
        "t = True  # En python tiene que ser con mayúscula\n",
        "f = False\n",
        "\n",
        "%whos # Palabra reservada para checkear tipos de datos"
      ],
      "execution_count": null,
      "outputs": [
        {
          "output_type": "stream",
          "name": "stdout",
          "text": [
            "No variables match your requested type.\n"
          ]
        }
      ]
    },
    {
      "cell_type": "code",
      "metadata": {
        "colab": {
          "base_uri": "https://localhost:8080/"
        },
        "id": "Zj7DxGAAW8Pa",
        "outputId": "2f1ed9cb-86a9-48e6-8d8d-d54bfcd5db93"
      },
      "source": [
        "4 == 4 # Se pueden usar comparadores directos en Jypiter "
      ],
      "execution_count": null,
      "outputs": [
        {
          "output_type": "execute_result",
          "data": {
            "text/plain": [
              "True"
            ]
          },
          "metadata": {},
          "execution_count": 3
        }
      ]
    },
    {
      "cell_type": "code",
      "metadata": {
        "id": "MRrS7ew8W-Yi"
      },
      "source": [
        "test = 4 == 4  # Se puede asignar el resultado de una operación a una variable"
      ],
      "execution_count": null,
      "outputs": []
    },
    {
      "cell_type": "code",
      "metadata": {
        "colab": {
          "base_uri": "https://localhost:8080/"
        },
        "id": "EVHqHgAbXU53",
        "outputId": "3a7c33e1-4346-4801-c2d8-63763e09417a"
      },
      "source": [
        "type(test)"
      ],
      "execution_count": null,
      "outputs": [
        {
          "output_type": "execute_result",
          "data": {
            "text/plain": [
              "bool"
            ]
          },
          "metadata": {},
          "execution_count": 7
        }
      ]
    },
    {
      "cell_type": "code",
      "metadata": {
        "colab": {
          "base_uri": "https://localhost:8080/"
        },
        "id": "eiaga984XW2U",
        "outputId": "be0813de-fcee-48f3-bada-5c96d3bf37c0"
      },
      "source": [
        "4 > 5  # Mayor a"
      ],
      "execution_count": null,
      "outputs": [
        {
          "output_type": "execute_result",
          "data": {
            "text/plain": [
              "False"
            ]
          },
          "metadata": {},
          "execution_count": 8
        }
      ]
    },
    {
      "cell_type": "code",
      "metadata": {
        "colab": {
          "base_uri": "https://localhost:8080/"
        },
        "id": "dlRAUb4WXhUO",
        "outputId": "4c9127e8-9f6d-41fe-e232-0a809e588a3d"
      },
      "source": [
        "5 != 5 # Distinto a "
      ],
      "execution_count": null,
      "outputs": [
        {
          "output_type": "execute_result",
          "data": {
            "text/plain": [
              "False"
            ]
          },
          "metadata": {},
          "execution_count": 9
        }
      ]
    },
    {
      "cell_type": "code",
      "metadata": {
        "colab": {
          "base_uri": "https://localhost:8080/"
        },
        "id": "LvXX2RKVX0Jp",
        "outputId": "25f3604a-62a3-4fa7-d98f-73fb8efe25a8"
      },
      "source": [
        "x = 10\n",
        "print(5 < x <11)  # Es lo mismo que x > 5 and x < 11"
      ],
      "execution_count": null,
      "outputs": [
        {
          "output_type": "stream",
          "name": "stdout",
          "text": [
            "True\n"
          ]
        }
      ]
    },
    {
      "cell_type": "code",
      "metadata": {
        "colab": {
          "base_uri": "https://localhost:8080/"
        },
        "id": "0B8qHIoQYRcR",
        "outputId": "4d420112-8e9f-482f-90f7-ee8fa54b13af"
      },
      "source": [
        "x > 5 or x < 5  # Al menos una de las condiciones debe ser cumplida"
      ],
      "execution_count": null,
      "outputs": [
        {
          "output_type": "execute_result",
          "data": {
            "text/plain": [
              "True"
            ]
          },
          "metadata": {},
          "execution_count": 16
        }
      ]
    },
    {
      "cell_type": "code",
      "metadata": {
        "colab": {
          "base_uri": "https://localhost:8080/"
        },
        "id": "FQ2gotP4YsXj",
        "outputId": "ef842b2c-8011-47e1-bf27-d7f9601bd8d1"
      },
      "source": [
        "bool(0)  # Se puede usar la función bool para cambiar el tipo de dato a bool"
      ],
      "execution_count": null,
      "outputs": [
        {
          "output_type": "execute_result",
          "data": {
            "text/plain": [
              "False"
            ]
          },
          "metadata": {},
          "execution_count": 21
        }
      ]
    },
    {
      "cell_type": "code",
      "metadata": {
        "colab": {
          "base_uri": "https://localhost:8080/"
        },
        "id": "gfinpq1SY1N0",
        "outputId": "a3a901d6-9416-4792-9243-4f7cf0e4d0f2"
      },
      "source": [
        "bool (3)  # Los números diferentes a 0 es True"
      ],
      "execution_count": null,
      "outputs": [
        {
          "output_type": "execute_result",
          "data": {
            "text/plain": [
              "True"
            ]
          },
          "metadata": {},
          "execution_count": 22
        }
      ]
    },
    {
      "cell_type": "code",
      "metadata": {
        "colab": {
          "base_uri": "https://localhost:8080/"
        },
        "id": "8ziV2_iyZF-p",
        "outputId": "c6a0c67c-57e6-41f2-8d08-8df92b07bb0b"
      },
      "source": [
        "bool('true')  # Transforma strings correctamente, cualquier valor es True"
      ],
      "execution_count": null,
      "outputs": [
        {
          "output_type": "execute_result",
          "data": {
            "text/plain": [
              "True"
            ]
          },
          "metadata": {},
          "execution_count": 23
        }
      ]
    },
    {
      "cell_type": "code",
      "metadata": {
        "colab": {
          "base_uri": "https://localhost:8080/"
        },
        "id": "yr72x3KDZQ3Y",
        "outputId": "804011c2-489f-4a4d-8b40-16d95680bc55"
      },
      "source": [
        "bool('') # Solo un empty string arrojará true"
      ],
      "execution_count": null,
      "outputs": [
        {
          "output_type": "execute_result",
          "data": {
            "text/plain": [
              "False"
            ]
          },
          "metadata": {},
          "execution_count": 24
        }
      ]
    },
    {
      "cell_type": "markdown",
      "metadata": {
        "id": "oc7DFkCEZd2t"
      },
      "source": [
        "---\n",
        "#Dictionary\n",
        "---"
      ]
    },
    {
      "cell_type": "code",
      "metadata": {
        "colab": {
          "base_uri": "https://localhost:8080/"
        },
        "id": "9wgkFGwyZ19K",
        "outputId": "8bbf519a-8791-46c3-9784-15ffae16598e"
      },
      "source": [
        "# Dictionary: key/values pair\n",
        "d = dict()  # Iniciar lista vacia\n",
        "d = {}  # Otra forma de inciar una lista vacia\n",
        "type(d)"
      ],
      "execution_count": null,
      "outputs": [
        {
          "output_type": "execute_result",
          "data": {
            "text/plain": [
              "dict"
            ]
          },
          "metadata": {},
          "execution_count": 40
        }
      ]
    },
    {
      "cell_type": "code",
      "metadata": {
        "colab": {
          "base_uri": "https://localhost:8080/"
        },
        "id": "neqOLg-taa1F",
        "outputId": "19f12787-28c5-4dc0-d9c9-11ee08d2c750"
      },
      "source": [
        "#   Key           Value\n",
        "d['name'] =      'Mike'\n",
        "d['ageRange'] =  [20,50]\n",
        "\n",
        "d"
      ],
      "execution_count": null,
      "outputs": [
        {
          "output_type": "execute_result",
          "data": {
            "text/plain": [
              "{'ageRange': [20, 50], 'name': 'Mike'}"
            ]
          },
          "metadata": {},
          "execution_count": 41
        }
      ]
    },
    {
      "cell_type": "code",
      "metadata": {
        "colab": {
          "base_uri": "https://localhost:8080/"
        },
        "id": "_eU6DrmrauXc",
        "outputId": "112a2527-36f8-470f-c8f7-58b6815b35e9"
      },
      "source": [
        "e = {'ageRange': [20,50], 'name':'Mike', 'FavColor': 'Purple'}\n",
        "type(e)"
      ],
      "execution_count": null,
      "outputs": [
        {
          "output_type": "execute_result",
          "data": {
            "text/plain": [
              "dict"
            ]
          },
          "metadata": {},
          "execution_count": 42
        }
      ]
    },
    {
      "cell_type": "code",
      "metadata": {
        "colab": {
          "base_uri": "https://localhost:8080/"
        },
        "id": "5bzTCW09bVuh",
        "outputId": "dba23ff3-b958-4067-879b-1af56605e63a"
      },
      "source": [
        "e.keys()  # Retorna las keys en un determinado dictionary"
      ],
      "execution_count": null,
      "outputs": [
        {
          "output_type": "execute_result",
          "data": {
            "text/plain": [
              "dict_keys(['ageRange', 'name', 'FavColor'])"
            ]
          },
          "metadata": {},
          "execution_count": 46
        }
      ]
    },
    {
      "cell_type": "code",
      "metadata": {
        "colab": {
          "base_uri": "https://localhost:8080/"
        },
        "id": "hQv4IbKbbrLY",
        "outputId": "029907b2-5e95-45a8-e088-58a364fb8887"
      },
      "source": [
        "'name' in e  # Existe la llave name en el dictionary"
      ],
      "execution_count": null,
      "outputs": [
        {
          "output_type": "execute_result",
          "data": {
            "text/plain": [
              "True"
            ]
          },
          "metadata": {},
          "execution_count": 48
        }
      ]
    },
    {
      "cell_type": "code",
      "metadata": {
        "colab": {
          "base_uri": "https://localhost:8080/"
        },
        "id": "oNyfWh29b5U-",
        "outputId": "104008cd-cf7f-4dc1-9590-b17aee2af31a"
      },
      "source": [
        "'Mike' in e  # Si buscamos los elementos dentro, nos manda false ya que busca llaves"
      ],
      "execution_count": null,
      "outputs": [
        {
          "output_type": "execute_result",
          "data": {
            "text/plain": [
              "False"
            ]
          },
          "metadata": {},
          "execution_count": 50
        }
      ]
    },
    {
      "cell_type": "code",
      "metadata": {
        "colab": {
          "base_uri": "https://localhost:8080/"
        },
        "id": "Xpzr2_dBcBE0",
        "outputId": "3c2aa90b-d5ea-4ffb-8fb3-ca96a5e5c1a2"
      },
      "source": [
        "e.items()  # Retorna todo como una tupla"
      ],
      "execution_count": null,
      "outputs": [
        {
          "output_type": "execute_result",
          "data": {
            "text/plain": [
              "dict_items([('ageRange', [20, 50]), ('name', 'Mike'), ('FavColor', 'Purple')])"
            ]
          },
          "metadata": {},
          "execution_count": 52
        }
      ]
    },
    {
      "cell_type": "markdown",
      "metadata": {
        "id": "vNEDNAl-dKCv"
      },
      "source": [
        "---\n",
        "##Indexing\n",
        "---"
      ]
    },
    {
      "cell_type": "code",
      "metadata": {
        "colab": {
          "base_uri": "https://localhost:8080/"
        },
        "id": "nBvDqOtqdMXR",
        "outputId": "0c8ff5bd-b4de-4988-e45c-96edfbc8c143"
      },
      "source": [
        "# variable          Index\n",
        "#             0  1  2   3     4       5        6                7\n",
        "alist     = [ 4, 5, 2, -6, 'texto', 10.01, [1, 2, 3], {'Penguin': 'Yummy'} ] \n",
        "\n",
        "alist[3] # el tercer indice corresponde al cuarto elemento"
      ],
      "execution_count": null,
      "outputs": [
        {
          "output_type": "execute_result",
          "data": {
            "text/plain": [
              "-6"
            ]
          },
          "metadata": {},
          "execution_count": 69
        }
      ]
    },
    {
      "cell_type": "code",
      "metadata": {
        "colab": {
          "base_uri": "https://localhost:8080/"
        },
        "id": "haz33nk-dobv",
        "outputId": "4fff75f5-a4fe-4342-c0b1-d106f574b990"
      },
      "source": [
        "alist[-1] # Muestra el último elemento"
      ],
      "execution_count": null,
      "outputs": [
        {
          "output_type": "execute_result",
          "data": {
            "text/plain": [
              "10.01"
            ]
          },
          "metadata": {},
          "execution_count": 54
        }
      ]
    },
    {
      "cell_type": "code",
      "metadata": {
        "colab": {
          "base_uri": "https://localhost:8080/"
        },
        "id": "MIR1-zo7d2_l",
        "outputId": "7d01959c-117b-46fc-a558-bde36c40efd1"
      },
      "source": [
        "alist[6][2]"
      ],
      "execution_count": null,
      "outputs": [
        {
          "output_type": "execute_result",
          "data": {
            "text/plain": [
              "3"
            ]
          },
          "metadata": {},
          "execution_count": 71
        }
      ]
    },
    {
      "cell_type": "code",
      "metadata": {
        "colab": {
          "base_uri": "https://localhost:8080/",
          "height": 35
        },
        "id": "OSTkXxyrfFf0",
        "outputId": "53641ace-7775-4606-e1f9-924766308d5b"
      },
      "source": [
        "alist[7]['Penguin']  #Buscar elementos en dictionary dentro de un dictionary"
      ],
      "execution_count": null,
      "outputs": [
        {
          "output_type": "execute_result",
          "data": {
            "application/vnd.google.colaboratory.intrinsic+json": {
              "type": "string"
            },
            "text/plain": [
              "'Yummy'"
            ]
          },
          "metadata": {},
          "execution_count": 75
        }
      ]
    },
    {
      "cell_type": "markdown",
      "metadata": {
        "id": "NDGb9BZyfdRQ"
      },
      "source": [
        "---\n",
        "##Slicing\n",
        "---\n"
      ]
    },
    {
      "cell_type": "code",
      "metadata": {
        "colab": {
          "base_uri": "https://localhost:8080/"
        },
        "id": "d8GHqA06fe7f",
        "outputId": "457dbded-f9b3-4f51-baa2-e1c4e04b9bd8"
      },
      "source": [
        "a = range(5,11)\n",
        "type(a)  # Set of integers that go fron 1 number into another\n",
        "\n",
        "# a[start:stop:skip]  se sigue este patrón siempre"
      ],
      "execution_count": null,
      "outputs": [
        {
          "output_type": "execute_result",
          "data": {
            "text/plain": [
              "range"
            ]
          },
          "metadata": {},
          "execution_count": 78
        }
      ]
    },
    {
      "cell_type": "code",
      "metadata": {
        "id": "-m773dE0gIJp"
      },
      "source": [
        "a = list(range(5,11))  # Transforma un rango a una lista"
      ],
      "execution_count": null,
      "outputs": []
    },
    {
      "cell_type": "code",
      "metadata": {
        "colab": {
          "base_uri": "https://localhost:8080/"
        },
        "id": "LM1pQkzmgkT4",
        "outputId": "5cc9fd9f-1b84-44b9-fbdd-fa5fc9974f7e"
      },
      "source": [
        "#  Slicing\n",
        "a [:3]   # Busca de 0 a 2 es lo mismo que a[0:3]"
      ],
      "execution_count": null,
      "outputs": [
        {
          "output_type": "execute_result",
          "data": {
            "text/plain": [
              "[5, 6, 7]"
            ]
          },
          "metadata": {},
          "execution_count": 99
        }
      ]
    },
    {
      "cell_type": "code",
      "metadata": {
        "colab": {
          "base_uri": "https://localhost:8080/"
        },
        "id": "fTG1CjwLgxqF",
        "outputId": "559c9213-6257-46e7-ceea-1b07eed431b8"
      },
      "source": [
        "a[2:]  # Busca desde el elemento con indice 2"
      ],
      "execution_count": null,
      "outputs": [
        {
          "output_type": "execute_result",
          "data": {
            "text/plain": [
              "[7, 8, 9, 10]"
            ]
          },
          "metadata": {},
          "execution_count": 102
        }
      ]
    },
    {
      "cell_type": "code",
      "metadata": {
        "colab": {
          "base_uri": "https://localhost:8080/"
        },
        "id": "Boxa41yDhn65",
        "outputId": "14d6bf9b-a33f-4dcf-c802-d4f399a0a361"
      },
      "source": [
        "a[::2]  # Busca de 2 en 2"
      ],
      "execution_count": null,
      "outputs": [
        {
          "output_type": "execute_result",
          "data": {
            "text/plain": [
              "[5, 7, 9]"
            ]
          },
          "metadata": {},
          "execution_count": 103
        }
      ]
    },
    {
      "cell_type": "code",
      "metadata": {
        "id": "dBkC1hYjh2Qw"
      },
      "source": [
        "a[::-1]  # Reverse a list"
      ],
      "execution_count": null,
      "outputs": []
    },
    {
      "cell_type": "markdown",
      "metadata": {
        "id": "iPj61uygj9gB"
      },
      "source": [
        "---\n",
        "#Functions\n",
        "---"
      ]
    },
    {
      "cell_type": "code",
      "metadata": {
        "colab": {
          "base_uri": "https://localhost:8080/"
        },
        "id": "9nW-_Oc7k86j",
        "outputId": "3a1a44a8-1096-4800-e6ad-7a9cd8fb0d1f"
      },
      "source": [
        "variable = [1, 2, 3, 4, 5]  # Inputs\n",
        "output = sum(variable)      # Outputs\n",
        "\n",
        "print('The sum is: ' + str(output))\n",
        "print('The mean is: ' + str(sum(variable)/len(variable)) )"
      ],
      "execution_count": null,
      "outputs": [
        {
          "output_type": "stream",
          "name": "stdout",
          "text": [
            "The sum is: 15\n",
            "The mean is: 3.0\n"
          ]
        }
      ]
    },
    {
      "cell_type": "markdown",
      "metadata": {
        "id": "3TVwo2lHr8gi"
      },
      "source": [
        "---\n",
        "#Continua en parte 2\n",
        "---"
      ]
    }
  ]
}