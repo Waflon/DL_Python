{
  "nbformat": 4,
  "nbformat_minor": 0,
  "metadata": {
    "colab": {
      "name": "Python Tutorial For DL Part 2.ipynb",
      "provenance": [],
      "collapsed_sections": [],
      "toc_visible": true,
      "authorship_tag": "ABX9TyOFcgXKyW8+wx4kY/wNPGSQ",
      "include_colab_link": true
    },
    "kernelspec": {
      "name": "python3",
      "display_name": "Python 3"
    },
    "language_info": {
      "name": "python"
    }
  },
  "cells": [
    {
      "cell_type": "markdown",
      "metadata": {
        "id": "view-in-github",
        "colab_type": "text"
      },
      "source": [
        "<a href=\"https://colab.research.google.com/github/Waflon/DL_Python/blob/main/Python_Tutorial_For_DL_Part_2.ipynb\" target=\"_parent\"><img src=\"https://colab.research.google.com/assets/colab-badge.svg\" alt=\"Open In Colab\"/></a>"
      ]
    },
    {
      "cell_type": "markdown",
      "metadata": {
        "id": "Ru11DmmZsc7F"
      },
      "source": [
        "---\n",
        "# Numpy\n",
        "---\n",
        "\n"
      ]
    },
    {
      "cell_type": "markdown",
      "metadata": {
        "id": "LWt1hEnSsj2J"
      },
      "source": [
        "Una de las librerías más usadas para DL (y para casi cualquier proyecto en python) es la de numpy."
      ]
    },
    {
      "cell_type": "code",
      "metadata": {
        "id": "uuyEXz2qsTIr"
      },
      "source": [
        "import numpy as np"
      ],
      "execution_count": null,
      "outputs": []
    },
    {
      "cell_type": "code",
      "metadata": {
        "colab": {
          "base_uri": "https://localhost:8080/"
        },
        "id": "t0XPRr2Csvr9",
        "outputId": "2af187a1-910a-42a6-ed0f-7cb8a9045bfe"
      },
      "source": [
        "numbers = [1, 2, 3, 4, 5]  #List\n",
        "sum(numbers)\n",
        "\n",
        "np.mean(numbers)"
      ],
      "execution_count": null,
      "outputs": [
        {
          "output_type": "execute_result",
          "data": {
            "text/plain": [
              "3.0"
            ]
          },
          "metadata": {},
          "execution_count": 14
        }
      ]
    },
    {
      "cell_type": "code",
      "metadata": {
        "colab": {
          "base_uri": "https://localhost:8080/"
        },
        "id": "CTfWPUm-szh-",
        "outputId": "227d8c0a-a387-4cf1-f922-fed2372fe3ef"
      },
      "source": [
        "# Se puede usar una función especifica, aplicandola directamente con:\n",
        "from numpy import mean  #Acá se llama una función de forma específica\n",
        "mean(numbers)"
      ],
      "execution_count": null,
      "outputs": [
        {
          "output_type": "execute_result",
          "data": {
            "text/plain": [
              "3.0"
            ]
          },
          "metadata": {},
          "execution_count": 15
        }
      ]
    },
    {
      "cell_type": "code",
      "metadata": {
        "colab": {
          "base_uri": "https://localhost:8080/"
        },
        "id": "u2tgcoD9tC_y",
        "outputId": "70cd1bb8-b608-454b-9d14-9a81ff4fd34d"
      },
      "source": [
        "x = np.linspace(1,7,5)  # Rellena hasta tener 5 valores entre 1 y 7\n",
        "type(x)"
      ],
      "execution_count": null,
      "outputs": [
        {
          "output_type": "execute_result",
          "data": {
            "text/plain": [
              "numpy.ndarray"
            ]
          },
          "metadata": {},
          "execution_count": 16
        }
      ]
    },
    {
      "cell_type": "code",
      "metadata": {
        "colab": {
          "base_uri": "https://localhost:8080/"
        },
        "id": "Ag3ZrSVZtyNz",
        "outputId": "b6973710-867a-4ee2-e244-f2b496b76f6b"
      },
      "source": [
        "numbers_np = np.array(numbers)\n",
        "\n",
        "print(type(numbers))\n",
        "print(type(numbers_np))  "
      ],
      "execution_count": null,
      "outputs": [
        {
          "output_type": "stream",
          "name": "stdout",
          "text": [
            "<class 'list'>\n",
            "<class 'numpy.ndarray'>\n"
          ]
        }
      ]
    },
    {
      "cell_type": "markdown",
      "metadata": {
        "id": "a8xDyolwuU-t"
      },
      "source": [
        "Se pueden utilizar listas o numpy.ndarray como argumentos para métodos de numpy"
      ]
    },
    {
      "cell_type": "code",
      "metadata": {
        "colab": {
          "base_uri": "https://localhost:8080/"
        },
        "id": "_c9uaDOSt4HU",
        "outputId": "4415e5f1-774e-4480-be0f-8b28b61e4283"
      },
      "source": [
        "np.max( numbers )  # look for the biggest number "
      ],
      "execution_count": null,
      "outputs": [
        {
          "output_type": "execute_result",
          "data": {
            "text/plain": [
              "5"
            ]
          },
          "metadata": {},
          "execution_count": 18
        }
      ]
    },
    {
      "cell_type": "code",
      "metadata": {
        "colab": {
          "base_uri": "https://localhost:8080/"
        },
        "id": "qEr5JPV6u5R3",
        "outputId": "f3bce6ff-0f22-45b0-f1f6-ed98b5365b7c"
      },
      "source": [
        "n = [ 4, 3, 5, 2, 6, 1, 7]\n",
        "print(n)\n",
        "n.sort()  # El método sort modifica la lista original\n",
        "print(n)"
      ],
      "execution_count": null,
      "outputs": [
        {
          "output_type": "stream",
          "name": "stdout",
          "text": [
            "[4, 3, 5, 2, 6, 1, 7]\n",
            "[1, 2, 3, 4, 5, 6, 7]\n"
          ]
        }
      ]
    },
    {
      "cell_type": "code",
      "metadata": {
        "colab": {
          "base_uri": "https://localhost:8080/"
        },
        "id": "fbYEXE4YvLSL",
        "outputId": "ffc42f2b-50ea-485a-be79-c1c2aa25b86a"
      },
      "source": [
        "n = [ 4, 3, 5, 2, 6, 1, 7]\n",
        "nn = np.array(n)\n",
        "\n",
        "print(nn)\n",
        "np.sort(nn)  # El método de sort de Numpy no modifica la lista original\n",
        "print(nn)"
      ],
      "execution_count": null,
      "outputs": [
        {
          "output_type": "stream",
          "name": "stdout",
          "text": [
            "[4 3 5 2 6 1 7]\n",
            "[4 3 5 2 6 1 7]\n"
          ]
        }
      ]
    },
    {
      "cell_type": "markdown",
      "metadata": {
        "id": "ks3OD3Fsv68W"
      },
      "source": [
        "---\n",
        "#Pandas\n",
        "---"
      ]
    },
    {
      "cell_type": "code",
      "metadata": {
        "colab": {
          "base_uri": "https://localhost:8080/"
        },
        "id": "6nneJfO5vcD0",
        "outputId": "3f71eed1-c37e-441a-83cf-635314f09a33"
      },
      "source": [
        "import numpy as np\n",
        "import pandas as pd\n",
        "\n",
        "#Create random data\n",
        "np.random.randn()"
      ],
      "execution_count": null,
      "outputs": [
        {
          "output_type": "execute_result",
          "data": {
            "text/plain": [
              "-1.7233621168912183"
            ]
          },
          "metadata": {},
          "execution_count": 25
        }
      ]
    },
    {
      "cell_type": "code",
      "metadata": {
        "colab": {
          "base_uri": "https://localhost:8080/"
        },
        "id": "vANVoCzqwVc3",
        "outputId": "430a67e6-996d-4bbd-894b-83a4b4c02f5f"
      },
      "source": [
        "np.random.randn(5)  # Generar un arreglo de 5 indices"
      ],
      "execution_count": null,
      "outputs": [
        {
          "output_type": "execute_result",
          "data": {
            "text/plain": [
              "array([-0.30160042, -1.60271558,  0.234791  , -0.64517906, -0.71557167])"
            ]
          },
          "metadata": {},
          "execution_count": 37
        }
      ]
    },
    {
      "cell_type": "code",
      "metadata": {
        "colab": {
          "base_uri": "https://localhost:8080/"
        },
        "id": "oTxTcFDYwdBQ",
        "outputId": "1f040d90-c456-45b4-a319-5a30239a9bee"
      },
      "source": [
        "np.random.randn(5, 5)  # Generar una Matriz de 5x5"
      ],
      "execution_count": null,
      "outputs": [
        {
          "output_type": "execute_result",
          "data": {
            "text/plain": [
              "array([[ 0.6925471 ,  0.77621889,  0.29026328,  0.40034294, -0.13751501],\n",
              "       [-0.23127453, -1.86127238, -0.40007093,  0.24756431,  1.03707395],\n",
              "       [-0.476336  ,  0.32041685, -0.69717421,  1.07674052, -1.29294428],\n",
              "       [ 0.0101023 , -0.78323175,  1.18495293, -0.65504847, -0.43379648],\n",
              "       [-0.04052006,  0.46790869, -1.46609083, -1.16590016, -0.65513014]])"
            ]
          },
          "metadata": {},
          "execution_count": 38
        }
      ]
    },
    {
      "cell_type": "code",
      "metadata": {
        "colab": {
          "base_uri": "https://localhost:8080/"
        },
        "id": "as0kOtkmwk2t",
        "outputId": "e3cad0fe-fbb3-4daf-e233-8fab1554bc1c"
      },
      "source": [
        "# Lista de 100 elementos\n",
        "var1 = np.random.randn(100)*5 + 20\n",
        "var1"
      ],
      "execution_count": null,
      "outputs": [
        {
          "output_type": "execute_result",
          "data": {
            "text/plain": [
              "array([24.06697999, 17.31925899, 15.67533038, 18.62666831, 19.78046408,\n",
              "       22.12762073, 12.39951484, 16.60225178, 23.11128656, 17.37027262,\n",
              "       24.92027233, 24.53744362, 21.55658014, 23.40053083, 16.65829494,\n",
              "       22.00323356, 14.17468253, 22.39043759, 19.91443058, 26.18779449,\n",
              "       15.54495504, 11.6808014 , 24.17517739, 20.007991  , 12.09181652,\n",
              "       26.98936558, 18.68390159, 20.60815219, 18.75366048, 19.99081415,\n",
              "       18.28589694, 19.60716122, 13.01964546, 20.86823301, 23.2871262 ,\n",
              "       20.75858416, 28.09235454, 21.45001901, 19.87032329, 21.83334447,\n",
              "       23.77195663, 27.31328468, 21.6602977 , 24.97227597, 21.79114976,\n",
              "       14.66366648, 20.74402438, 19.4082861 , 23.32665665, 13.64831838,\n",
              "       19.27851769, 20.38261202, 23.44023006, 22.23635771, 16.51044189,\n",
              "        7.23706714, 11.10248934, 19.58459656, 18.88437867, 21.05254613,\n",
              "       20.60411433, 21.31460374, 18.43219316, 22.41012931, 10.23538899,\n",
              "       21.21763387, 16.77886947, 22.93437828, 22.86404713, 12.9597977 ,\n",
              "       14.41816825, 31.34693974, 21.23005316, 14.30510329, 21.48425413,\n",
              "       17.06504871, 24.37128069, 30.84933768, 27.45211011, 22.82416629,\n",
              "       22.82925876, 21.51487286, 20.76180254, 21.9954786 , 11.20048981,\n",
              "       21.92416281, 16.62851472, 23.62170298, 24.8660974 , 20.38440075,\n",
              "       19.67921547, 17.60946071, 15.83900571, 22.28144644, 18.21286417,\n",
              "       15.70208049, 20.05425293, 18.42886632, 21.30983474, 22.74196524])"
            ]
          },
          "metadata": {},
          "execution_count": 39
        }
      ]
    },
    {
      "cell_type": "code",
      "metadata": {
        "colab": {
          "base_uri": "https://localhost:8080/"
        },
        "id": "D6hjpBbTw18d",
        "outputId": "2301184d-dfae-4d09-ac32-493a84f29694"
      },
      "source": [
        "# Se pueden llenar con booleanos\n",
        "var2 = np.random.randn(100)>0  # Evalua si el valor es mayor a 0, si ocurre manda True\n",
        "var2"
      ],
      "execution_count": null,
      "outputs": [
        {
          "output_type": "execute_result",
          "data": {
            "text/plain": [
              "array([False,  True, False,  True, False, False, False,  True, False,\n",
              "       False,  True,  True, False, False,  True,  True,  True,  True,\n",
              "        True, False,  True, False, False, False,  True, False, False,\n",
              "        True,  True,  True, False, False,  True, False,  True,  True,\n",
              "        True,  True, False, False,  True,  True, False, False,  True,\n",
              "       False, False, False,  True, False,  True,  True, False,  True,\n",
              "       False, False,  True,  True,  True, False,  True,  True,  True,\n",
              "        True,  True,  True, False, False,  True, False,  True, False,\n",
              "       False, False, False, False,  True,  True,  True, False,  True,\n",
              "        True, False,  True, False, False,  True, False, False,  True,\n",
              "        True,  True,  True,  True,  True,  True, False, False,  True,\n",
              "       False])"
            ]
          },
          "metadata": {},
          "execution_count": 40
        }
      ]
    },
    {
      "cell_type": "code",
      "metadata": {
        "colab": {
          "base_uri": "https://localhost:8080/"
        },
        "id": "6HB8c6FcxA5e",
        "outputId": "84f2d502-dba8-4360-ab75-6d585a647341"
      },
      "source": [
        "# Variable labels\n",
        "labels = [ 'Temp (C)','Ice Cream']\n",
        "\n",
        "# Put them together into a dictionary\n",
        "d = {labels[0]:var1, labels[1]:var2}\n",
        "\n",
        "#import the dictionary into a pandas dataframe\n",
        "df = pd.DataFrame(data=d)\n",
        "type(df)  # Tipo de dato DataFrame"
      ],
      "execution_count": null,
      "outputs": [
        {
          "output_type": "execute_result",
          "data": {
            "text/plain": [
              "pandas.core.frame.DataFrame"
            ]
          },
          "metadata": {},
          "execution_count": 35
        }
      ]
    },
    {
      "cell_type": "code",
      "metadata": {
        "colab": {
          "base_uri": "https://localhost:8080/",
          "height": 419
        },
        "id": "K_5o4KICxrr8",
        "outputId": "9f6d58e0-d4ef-4a84-b61a-b470f388a5bc"
      },
      "source": [
        "df"
      ],
      "execution_count": null,
      "outputs": [
        {
          "output_type": "execute_result",
          "data": {
            "text/html": [
              "<div>\n",
              "<style scoped>\n",
              "    .dataframe tbody tr th:only-of-type {\n",
              "        vertical-align: middle;\n",
              "    }\n",
              "\n",
              "    .dataframe tbody tr th {\n",
              "        vertical-align: top;\n",
              "    }\n",
              "\n",
              "    .dataframe thead th {\n",
              "        text-align: right;\n",
              "    }\n",
              "</style>\n",
              "<table border=\"1\" class=\"dataframe\">\n",
              "  <thead>\n",
              "    <tr style=\"text-align: right;\">\n",
              "      <th></th>\n",
              "      <th>Temp (C)</th>\n",
              "      <th>Ice Cream</th>\n",
              "    </tr>\n",
              "  </thead>\n",
              "  <tbody>\n",
              "    <tr>\n",
              "      <th>0</th>\n",
              "      <td>12.999129</td>\n",
              "      <td>True</td>\n",
              "    </tr>\n",
              "    <tr>\n",
              "      <th>1</th>\n",
              "      <td>23.803444</td>\n",
              "      <td>True</td>\n",
              "    </tr>\n",
              "    <tr>\n",
              "      <th>2</th>\n",
              "      <td>12.725540</td>\n",
              "      <td>False</td>\n",
              "    </tr>\n",
              "    <tr>\n",
              "      <th>3</th>\n",
              "      <td>30.365150</td>\n",
              "      <td>True</td>\n",
              "    </tr>\n",
              "    <tr>\n",
              "      <th>4</th>\n",
              "      <td>21.509612</td>\n",
              "      <td>True</td>\n",
              "    </tr>\n",
              "    <tr>\n",
              "      <th>...</th>\n",
              "      <td>...</td>\n",
              "      <td>...</td>\n",
              "    </tr>\n",
              "    <tr>\n",
              "      <th>95</th>\n",
              "      <td>22.377096</td>\n",
              "      <td>True</td>\n",
              "    </tr>\n",
              "    <tr>\n",
              "      <th>96</th>\n",
              "      <td>15.318025</td>\n",
              "      <td>False</td>\n",
              "    </tr>\n",
              "    <tr>\n",
              "      <th>97</th>\n",
              "      <td>28.374771</td>\n",
              "      <td>False</td>\n",
              "    </tr>\n",
              "    <tr>\n",
              "      <th>98</th>\n",
              "      <td>22.064480</td>\n",
              "      <td>True</td>\n",
              "    </tr>\n",
              "    <tr>\n",
              "      <th>99</th>\n",
              "      <td>22.391423</td>\n",
              "      <td>True</td>\n",
              "    </tr>\n",
              "  </tbody>\n",
              "</table>\n",
              "<p>100 rows × 2 columns</p>\n",
              "</div>"
            ],
            "text/plain": [
              "     Temp (C)  Ice Cream\n",
              "0   12.999129       True\n",
              "1   23.803444       True\n",
              "2   12.725540      False\n",
              "3   30.365150       True\n",
              "4   21.509612       True\n",
              "..        ...        ...\n",
              "95  22.377096       True\n",
              "96  15.318025      False\n",
              "97  28.374771      False\n",
              "98  22.064480       True\n",
              "99  22.391423       True\n",
              "\n",
              "[100 rows x 2 columns]"
            ]
          },
          "metadata": {},
          "execution_count": 41
        }
      ]
    },
    {
      "cell_type": "code",
      "metadata": {
        "colab": {
          "base_uri": "https://localhost:8080/"
        },
        "id": "n9N44dm6ya7r",
        "outputId": "8494280d-f45d-4fff-d325-8c6ac939a042"
      },
      "source": [
        "df.mean()"
      ],
      "execution_count": null,
      "outputs": [
        {
          "output_type": "execute_result",
          "data": {
            "text/plain": [
              "Temp (C)     20.530055\n",
              "Ice Cream     0.540000\n",
              "dtype: float64"
            ]
          },
          "metadata": {},
          "execution_count": 42
        }
      ]
    },
    {
      "cell_type": "code",
      "metadata": {
        "colab": {
          "base_uri": "https://localhost:8080/",
          "height": 444
        },
        "id": "now2DPmryby3",
        "outputId": "d662069d-dbf1-4fe6-80e1-5b25c643ef1b"
      },
      "source": [
        "# Excercise\n",
        "# Create a pandas DataFrame with\n",
        "# Integers going from 0 to 10, their square, and their log\n",
        "\n",
        "nums = np.array(range(11)) # Crear rango de 0 a 10\n",
        "\n",
        "df = pd.DataFrame({'Numbers':nums, 'Square':nums**2, 'log':np.log(nums)})\n",
        "df # El log(0) está indefinido y arrojará un mensaje de advertencia"
      ],
      "execution_count": null,
      "outputs": [
        {
          "output_type": "stream",
          "name": "stderr",
          "text": [
            "/usr/local/lib/python3.7/dist-packages/ipykernel_launcher.py:7: RuntimeWarning: divide by zero encountered in log\n",
            "  import sys\n"
          ]
        },
        {
          "output_type": "execute_result",
          "data": {
            "text/html": [
              "<div>\n",
              "<style scoped>\n",
              "    .dataframe tbody tr th:only-of-type {\n",
              "        vertical-align: middle;\n",
              "    }\n",
              "\n",
              "    .dataframe tbody tr th {\n",
              "        vertical-align: top;\n",
              "    }\n",
              "\n",
              "    .dataframe thead th {\n",
              "        text-align: right;\n",
              "    }\n",
              "</style>\n",
              "<table border=\"1\" class=\"dataframe\">\n",
              "  <thead>\n",
              "    <tr style=\"text-align: right;\">\n",
              "      <th></th>\n",
              "      <th>Numbers</th>\n",
              "      <th>Square</th>\n",
              "      <th>log</th>\n",
              "    </tr>\n",
              "  </thead>\n",
              "  <tbody>\n",
              "    <tr>\n",
              "      <th>0</th>\n",
              "      <td>0</td>\n",
              "      <td>0</td>\n",
              "      <td>-inf</td>\n",
              "    </tr>\n",
              "    <tr>\n",
              "      <th>1</th>\n",
              "      <td>1</td>\n",
              "      <td>1</td>\n",
              "      <td>0.000000</td>\n",
              "    </tr>\n",
              "    <tr>\n",
              "      <th>2</th>\n",
              "      <td>2</td>\n",
              "      <td>4</td>\n",
              "      <td>0.693147</td>\n",
              "    </tr>\n",
              "    <tr>\n",
              "      <th>3</th>\n",
              "      <td>3</td>\n",
              "      <td>9</td>\n",
              "      <td>1.098612</td>\n",
              "    </tr>\n",
              "    <tr>\n",
              "      <th>4</th>\n",
              "      <td>4</td>\n",
              "      <td>16</td>\n",
              "      <td>1.386294</td>\n",
              "    </tr>\n",
              "    <tr>\n",
              "      <th>5</th>\n",
              "      <td>5</td>\n",
              "      <td>25</td>\n",
              "      <td>1.609438</td>\n",
              "    </tr>\n",
              "    <tr>\n",
              "      <th>6</th>\n",
              "      <td>6</td>\n",
              "      <td>36</td>\n",
              "      <td>1.791759</td>\n",
              "    </tr>\n",
              "    <tr>\n",
              "      <th>7</th>\n",
              "      <td>7</td>\n",
              "      <td>49</td>\n",
              "      <td>1.945910</td>\n",
              "    </tr>\n",
              "    <tr>\n",
              "      <th>8</th>\n",
              "      <td>8</td>\n",
              "      <td>64</td>\n",
              "      <td>2.079442</td>\n",
              "    </tr>\n",
              "    <tr>\n",
              "      <th>9</th>\n",
              "      <td>9</td>\n",
              "      <td>81</td>\n",
              "      <td>2.197225</td>\n",
              "    </tr>\n",
              "    <tr>\n",
              "      <th>10</th>\n",
              "      <td>10</td>\n",
              "      <td>100</td>\n",
              "      <td>2.302585</td>\n",
              "    </tr>\n",
              "  </tbody>\n",
              "</table>\n",
              "</div>"
            ],
            "text/plain": [
              "    Numbers  Square       log\n",
              "0         0       0      -inf\n",
              "1         1       1  0.000000\n",
              "2         2       4  0.693147\n",
              "3         3       9  1.098612\n",
              "4         4      16  1.386294\n",
              "5         5      25  1.609438\n",
              "6         6      36  1.791759\n",
              "7         7      49  1.945910\n",
              "8         8      64  2.079442\n",
              "9         9      81  2.197225\n",
              "10       10     100  2.302585"
            ]
          },
          "metadata": {},
          "execution_count": 53
        }
      ]
    },
    {
      "cell_type": "markdown",
      "metadata": {
        "id": "EkMwWCdA1GTB"
      },
      "source": [
        "---\n",
        "#Getting Help\n",
        "---"
      ]
    },
    {
      "cell_type": "code",
      "metadata": {
        "id": "JQspnVULytNK"
      },
      "source": [
        "#Abre menu de ayuda\n",
        "sum?"
      ],
      "execution_count": null,
      "outputs": []
    },
    {
      "cell_type": "code",
      "metadata": {
        "colab": {
          "base_uri": "https://localhost:8080/"
        },
        "id": "31GlHmFt0vDw",
        "outputId": "601591e4-7c9c-493b-b169-9733df3629f0"
      },
      "source": [
        "help(sum)"
      ],
      "execution_count": null,
      "outputs": [
        {
          "output_type": "stream",
          "name": "stdout",
          "text": [
            "Help on built-in function sum in module builtins:\n",
            "\n",
            "sum(iterable, start=0, /)\n",
            "    Return the sum of a 'start' value (default: 0) plus an iterable of numbers\n",
            "    \n",
            "    When the iterable is empty, return the start value.\n",
            "    This function is intended specifically for use with numeric values and may\n",
            "    reject non-numeric types.\n",
            "\n"
          ]
        }
      ]
    },
    {
      "cell_type": "code",
      "metadata": {
        "id": "FxTvwjFe0-HU"
      },
      "source": [
        "import numpy as np\n",
        "# Recibe ayuda\n",
        "np.linspace?"
      ],
      "execution_count": null,
      "outputs": []
    },
    {
      "cell_type": "code",
      "metadata": {
        "id": "QfPsH8_y1Rb6"
      },
      "source": [
        " # Ve el código de la función\n",
        "np.linspace??"
      ],
      "execution_count": null,
      "outputs": []
    },
    {
      "cell_type": "markdown",
      "metadata": {
        "id": "ms2hMlwg12Bd"
      },
      "source": [
        "---\n",
        "#Functions\n",
        "---"
      ]
    },
    {
      "cell_type": "markdown",
      "metadata": {
        "id": "V11UaORkKo-s"
      },
      "source": [
        "Para crear una funcion partir con la palabra reservada def (Definir) y luego el nombre de la funcion, seguido de ():"
      ]
    },
    {
      "cell_type": "code",
      "metadata": {
        "id": "PbJBrq_314Uw",
        "colab": {
          "base_uri": "https://localhost:8080/"
        },
        "outputId": "dc15a807-59b5-4471-9e17-645e424454da"
      },
      "source": [
        "def prueba(): # Creación de la función\n",
        "  print('Hola')\n",
        "  #Fin de la funcion\n",
        "prueba()"
      ],
      "execution_count": null,
      "outputs": [
        {
          "output_type": "stream",
          "name": "stdout",
          "text": [
            "Hola\n"
          ]
        }
      ]
    },
    {
      "cell_type": "code",
      "metadata": {
        "colab": {
          "base_uri": "https://localhost:8080/"
        },
        "id": "a1Av9DCZM5Rb",
        "outputId": "f4cb42f2-8e86-4ff5-d14b-c229db1aaa84"
      },
      "source": [
        "def sumarPrueba(input1, input2):\n",
        "  print(input1+input2)\n",
        "sumarPrueba(1,2)"
      ],
      "execution_count": null,
      "outputs": [
        {
          "output_type": "stream",
          "name": "stdout",
          "text": [
            "3\n"
          ]
        }
      ]
    },
    {
      "cell_type": "code",
      "metadata": {
        "colab": {
          "base_uri": "https://localhost:8080/"
        },
        "id": "xaGw5twUK9TE",
        "outputId": "4dd267ec-9cd1-4c4c-98ef-e49cc1b576b5"
      },
      "source": [
        "def sumarPrueba(input1, input2):\n",
        "  print(f'la suma es: {input1+input2}')\n",
        "sumarPrueba(1,2)"
      ],
      "execution_count": null,
      "outputs": [
        {
          "output_type": "stream",
          "name": "stdout",
          "text": [
            "la suma es: 3\n"
          ]
        }
      ]
    },
    {
      "cell_type": "code",
      "metadata": {
        "colab": {
          "base_uri": "https://localhost:8080/"
        },
        "id": "tGMaHwBZLQw_",
        "outputId": "52b643e4-0c46-4ac0-9a3d-bc99ca2f883e"
      },
      "source": [
        "def sumarPrueba2(input1, input2):\n",
        "  return input1+input2\n",
        "\n",
        "resultado = sumarPrueba2(3,5)\n",
        "resultado"
      ],
      "execution_count": null,
      "outputs": [
        {
          "output_type": "execute_result",
          "data": {
            "text/plain": [
              "8"
            ]
          },
          "metadata": {},
          "execution_count": 10
        }
      ]
    },
    {
      "cell_type": "code",
      "metadata": {
        "colab": {
          "base_uri": "https://localhost:8080/"
        },
        "id": "kYLqUnhhLzHA",
        "outputId": "427f3afd-9171-4a02-8273-f74b83b21ee2"
      },
      "source": [
        "def operaciones(input1, input2):\n",
        "  product = input1*input2\n",
        "  suma    = input1+input2\n",
        "  return product, suma\n",
        "\n",
        "output1, output2 = operaciones(5, 100)\n",
        "print(output1)\n",
        "print(output2)"
      ],
      "execution_count": null,
      "outputs": [
        {
          "output_type": "stream",
          "name": "stdout",
          "text": [
            "500\n",
            "105\n"
          ]
        }
      ]
    },
    {
      "cell_type": "markdown",
      "metadata": {
        "id": "a7TUB4jxNizl"
      },
      "source": [
        "---\n",
        "##Lambda Functions\n",
        "---"
      ]
    },
    {
      "cell_type": "code",
      "metadata": {
        "colab": {
          "base_uri": "https://localhost:8080/"
        },
        "id": "bOKvDGBqMx8Q",
        "outputId": "4885c6d5-90f4-46a7-e59d-e9a3f12dc2b8"
      },
      "source": [
        "operacion = lambda x: x**2 -1        # Es como f(x) = (x^2)-1\n",
        "operacion(5) # f(5) = (5^2)- 1 = 24"
      ],
      "execution_count": null,
      "outputs": [
        {
          "output_type": "execute_result",
          "data": {
            "text/plain": [
              "24"
            ]
          },
          "metadata": {},
          "execution_count": 18
        }
      ]
    },
    {
      "cell_type": "code",
      "metadata": {
        "colab": {
          "base_uri": "https://localhost:8080/"
        },
        "id": "sH-pBTyjN7aU",
        "outputId": "0847fc8e-aba6-4c98-e38a-f7f0934f3ea0"
      },
      "source": [
        "# Factorial\n",
        "import numpy as np\n",
        "\n",
        "n = 4 # Factorial a evaluar\n",
        "\n",
        "np.prod(np.arange(1,n+1))  # Product of a range of numbers\n"
      ],
      "execution_count": null,
      "outputs": [
        {
          "output_type": "execute_result",
          "data": {
            "text/plain": [
              "24"
            ]
          },
          "metadata": {},
          "execution_count": 19
        }
      ]
    },
    {
      "cell_type": "code",
      "metadata": {
        "id": "qbuYole1OTnL"
      },
      "source": [
        "def myFactorial(n):\n",
        "  return np.prod(np.arange(1,n+1))"
      ],
      "execution_count": null,
      "outputs": []
    },
    {
      "cell_type": "code",
      "metadata": {
        "colab": {
          "base_uri": "https://localhost:8080/"
        },
        "id": "XjI8tYfAOi0p",
        "outputId": "0547c699-8ea4-43c0-b233-dab183904548"
      },
      "source": [
        "myFactorial(5)"
      ],
      "execution_count": null,
      "outputs": [
        {
          "output_type": "execute_result",
          "data": {
            "text/plain": [
              "120"
            ]
          },
          "metadata": {},
          "execution_count": 21
        }
      ]
    },
    {
      "cell_type": "markdown",
      "metadata": {
        "id": "UpCWxro7OqHI"
      },
      "source": [
        "---\n",
        "#Using Math library\n",
        "---"
      ]
    },
    {
      "cell_type": "code",
      "metadata": {
        "colab": {
          "base_uri": "https://localhost:8080/"
        },
        "id": "GCDxtOlLOkzD",
        "outputId": "befc167c-56a5-472e-e6d0-d48e2800584e"
      },
      "source": [
        "import math\n",
        "math.factorial(5)  # funcion de factorial"
      ],
      "execution_count": null,
      "outputs": [
        {
          "output_type": "execute_result",
          "data": {
            "text/plain": [
              "120"
            ]
          },
          "metadata": {},
          "execution_count": 22
        }
      ]
    },
    {
      "cell_type": "code",
      "metadata": {
        "colab": {
          "base_uri": "https://localhost:8080/"
        },
        "id": "a9fmAO0DOocc",
        "outputId": "9d956623-9476-4726-b150-dd9033088a9b"
      },
      "source": [
        "number = 10\n",
        "print(myFactorial(number), math.factorial(number))"
      ],
      "execution_count": null,
      "outputs": [
        {
          "output_type": "stream",
          "name": "stdout",
          "text": [
            "3628800 3628800\n"
          ]
        }
      ]
    },
    {
      "cell_type": "markdown",
      "metadata": {
        "id": "umYeLc9qPEO4"
      },
      "source": [
        "---\n",
        "##Scope\n",
        "---"
      ]
    },
    {
      "cell_type": "code",
      "metadata": {
        "id": "9vNvtmDFPHMP"
      },
      "source": [
        "# Local Scope\n",
        "# Global Scope\n",
        "# Rules:\n",
        "# 1) Variables created inside a function are local\n",
        "# (Accessible onlyu inside the function)\n",
        "\n",
        "# 2) Variables created outside a function are global\n",
        "# (Accessible onlyu inside the function)"
      ],
      "execution_count": null,
      "outputs": []
    },
    {
      "cell_type": "code",
      "metadata": {
        "id": "HBxSq15ZPySD"
      },
      "source": [
        "def funcion():\n",
        "  x = 7  #Declaración local de una variable\n",
        "  y = 10\n",
        "  print(x)"
      ],
      "execution_count": null,
      "outputs": []
    },
    {
      "cell_type": "code",
      "metadata": {
        "colab": {
          "base_uri": "https://localhost:8080/"
        },
        "id": "HYcXd6VwP4Kq",
        "outputId": "f21bfa62-3dfd-4962-bf23-d5b2695621b5"
      },
      "source": [
        "funcion()"
      ],
      "execution_count": null,
      "outputs": [
        {
          "output_type": "stream",
          "name": "stdout",
          "text": [
            "7\n"
          ]
        }
      ]
    },
    {
      "cell_type": "code",
      "metadata": {
        "colab": {
          "base_uri": "https://localhost:8080/"
        },
        "id": "9XmcfZDBP5He",
        "outputId": "366eaba0-7d6b-432c-bd7b-565046d74030"
      },
      "source": [
        "#print(x)  # Esto marca error, ya que el x fue declarado de manera local\n",
        "x = 3\n",
        "print(3)\n",
        "funcion()\n",
        "print(x)"
      ],
      "execution_count": null,
      "outputs": [
        {
          "output_type": "stream",
          "name": "stdout",
          "text": [
            "3\n",
            "7\n",
            "3\n"
          ]
        }
      ]
    },
    {
      "cell_type": "code",
      "metadata": {
        "id": "gJ5Nn3hDP7LJ"
      },
      "source": [
        "def funcion2(): # Funcion que no retorna ni un valor\n",
        "  print(z)"
      ],
      "execution_count": null,
      "outputs": []
    },
    {
      "cell_type": "code",
      "metadata": {
        "colab": {
          "base_uri": "https://localhost:8080/"
        },
        "id": "YW4MxcGPQbcH",
        "outputId": "afa53deb-e9a9-4ecd-ea53-9c26f71fe9fa"
      },
      "source": [
        "z = 14\n",
        "funcion2()"
      ],
      "execution_count": null,
      "outputs": [
        {
          "output_type": "stream",
          "name": "stdout",
          "text": [
            "14\n"
          ]
        }
      ]
    },
    {
      "cell_type": "markdown",
      "metadata": {
        "id": "yxYSGI08TmNQ"
      },
      "source": [
        "---\n",
        "##Flip a Coin\n",
        "---"
      ]
    },
    {
      "cell_type": "code",
      "metadata": {
        "id": "gK4ZQfB0QdrI"
      },
      "source": [
        "#Excercise: Write a function that flips a coin N times, and reports the average\n",
        "import numpy as np\n",
        "\n",
        "def flipAcoin(n):\n",
        "  return np.mean(np.random.randn(n) > 0) # Funcion que retorne numeros random y los compare a 0\n",
        "  #Rendondea a 2 cifras por "
      ],
      "execution_count": null,
      "outputs": []
    },
    {
      "cell_type": "code",
      "metadata": {
        "colab": {
          "base_uri": "https://localhost:8080/"
        },
        "id": "WrC5KmhURpv8",
        "outputId": "119b522a-f1e0-4858-8a6f-5a2035f2cb39"
      },
      "source": [
        "n = 4000\n",
        "print(f'{n} coins flips had {round(flipAcoin(n)*100, 2)}% Heads ')  ## Retorna la media de una cantidad n de datos"
      ],
      "execution_count": null,
      "outputs": [
        {
          "output_type": "stream",
          "name": "stdout",
          "text": [
            "4000 coins flips had 49.18% Heads \n"
          ]
        }
      ]
    },
    {
      "cell_type": "markdown",
      "metadata": {
        "id": "R1aBqJiTTuix"
      },
      "source": [
        "---\n",
        "## Copies and Referents of Values"
      ]
    },
    {
      "cell_type": "code",
      "metadata": {
        "colab": {
          "base_uri": "https://localhost:8080/"
        },
        "id": "SbKK1P7wRsJr",
        "outputId": "92edfbfd-3806-4525-926b-79d2bd1f717c"
      },
      "source": [
        "a = [4, 3]\n",
        "\n",
        "b = a  # Alvaro es igual a Waflon, ambos referencian a la misma persona\n",
        "b[0] = 5  # Si modificamos un valor...\n",
        "\n",
        "print(a)  # Cambia el valor original de a\n",
        "print(b)"
      ],
      "execution_count": null,
      "outputs": [
        {
          "output_type": "stream",
          "name": "stdout",
          "text": [
            "[5, 3]\n",
            "[5, 3]\n"
          ]
        }
      ]
    },
    {
      "cell_type": "code",
      "metadata": {
        "colab": {
          "base_uri": "https://localhost:8080/"
        },
        "id": "ZPdrUzUGUgpE",
        "outputId": "db4717d0-cc04-4279-cbe4-026fccf2cb3c"
      },
      "source": [
        "# Podemos almacenar una copia de la lista\n",
        "b = a[:]\n",
        "b[1] = 9\n",
        "\n",
        "print(a)  # No Cambia el valor original de a\n",
        "print(b)\n",
        "print(id(a))  #Muestra el espacio de memoria donde se aloja a y b\n",
        "print(id(b))"
      ],
      "execution_count": null,
      "outputs": [
        {
          "output_type": "stream",
          "name": "stdout",
          "text": [
            "[5, 3]\n",
            "[5, 9]\n",
            "140660129827648\n",
            "140660129452192\n"
          ]
        }
      ]
    },
    {
      "cell_type": "markdown",
      "metadata": {
        "id": "RaKhilY3VJAJ"
      },
      "source": [
        "---\n",
        "#Copy Dictionaries\n",
        "---"
      ]
    },
    {
      "cell_type": "code",
      "metadata": {
        "id": "MuJwxLzJV_uP"
      },
      "source": [
        "# Si intentamos hacer con el diccionario lo mismo que con las listas tendremos un error\n",
        "# Ya que los tipos de datos se van complejisando, mejor unsa una librería"
      ],
      "execution_count": null,
      "outputs": []
    },
    {
      "cell_type": "code",
      "metadata": {
        "colab": {
          "base_uri": "https://localhost:8080/"
        },
        "id": "-btMQqOMUz27",
        "outputId": "1c474819-d7c3-462d-f38e-ad90a5e03d0b"
      },
      "source": [
        "import copy\n",
        "a = {'q':1, 'w':2}\n",
        "b = copy.deepcopy(a)\n",
        "\n",
        "print(id(a))  #Muestra el espacio de memoria donde se aloja a y b\n",
        "print(id(b))"
      ],
      "execution_count": null,
      "outputs": [
        {
          "output_type": "stream",
          "name": "stdout",
          "text": [
            "140660129495072\n",
            "140660129493792\n"
          ]
        }
      ]
    },
    {
      "cell_type": "markdown",
      "metadata": {
        "id": "Mwf2HKgVWXMV"
      },
      "source": [
        "---\n",
        "# Object Oriented Programming\n",
        "---"
      ]
    },
    {
      "cell_type": "code",
      "metadata": {
        "id": "mc7EsVRVVYXX"
      },
      "source": [
        "# class: blueprint for creating a set of attributes and methods\n",
        "# instance"
      ],
      "execution_count": null,
      "outputs": []
    },
    {
      "cell_type": "code",
      "metadata": {
        "id": "hKkuaC9eW42c"
      },
      "source": [
        "class model(object):\n",
        "  # Constructor method\n",
        "  def __init__(self, numlayers, numunits, name):\n",
        "    self.layers = numlayers\n",
        "    self.units = numunits\n",
        "    self.name = name\n",
        "    self.weights = 0\n",
        "\n",
        "  def howManyUnits(self):\n",
        "    totalUnits = self.layers * self.units\n",
        "    print(f'There are {totalUnits} in the model.')\n",
        "\n",
        "  def trainTheModel(self, x):\n",
        "    self.weights += x\n",
        "    return self.weights\n",
        "\n",
        "  def __str__(self):  # Permite ser llamada para entregar información relevante.\n",
        "    return f'This is a {self.name} architecture.'"
      ],
      "execution_count": null,
      "outputs": []
    },
    {
      "cell_type": "code",
      "metadata": {
        "id": "ByDaVcp6XKBs"
      },
      "source": [
        "m1 = model(2, 5, 'CNN')  # Instancia m1 de modelo\n",
        "#m1.howManyUnits()"
      ],
      "execution_count": null,
      "outputs": []
    },
    {
      "cell_type": "code",
      "metadata": {
        "colab": {
          "base_uri": "https://localhost:8080/",
          "height": 35
        },
        "id": "WFyskzJOXl3x",
        "outputId": "7bb2f80a-25ce-4c1b-ea1e-56a708575ca7"
      },
      "source": [
        "#m1.trainTheModel(-12.5)  # Cada vez que repitamos este codigo, modificaremos el valor del peso\n",
        "str(m1)  # Llama a la funcion __str__ para mostrar información"
      ],
      "execution_count": null,
      "outputs": [
        {
          "output_type": "execute_result",
          "data": {
            "application/vnd.google.colaboratory.intrinsic+json": {
              "type": "string"
            },
            "text/plain": [
              "'This is a CNN architecture.'"
            ]
          },
          "metadata": {},
          "execution_count": 97
        }
      ]
    },
    {
      "cell_type": "markdown",
      "metadata": {
        "id": "sU1XfzRmZaWi"
      },
      "source": [
        "---\n",
        "## Excercise\n",
        "---"
      ]
    },
    {
      "cell_type": "code",
      "metadata": {
        "id": "fO9wUFLgXuZL"
      },
      "source": [
        "# Create a new class\n",
        "# 1) weights should be a random number matrix of size lazers x units\n",
        "# 2) Change training method to multiply input X and add input Y\n",
        "import numpy as np\n",
        "\n",
        "class model2(object):\n",
        "  # Constructor method\n",
        "  def __init__(self, numlayers, numunits, name):\n",
        "    self.layers = numlayers\n",
        "    self.units = numunits\n",
        "    self.name = name\n",
        "    self.weights = np.random.randn(numlayers, self.units)  # Creacion de la matriz\n",
        "\n",
        "  def howManyUnits(self):\n",
        "    totalUnits = self.layers * self.units\n",
        "    print(f'There are {totalUnits} in the model.')\n",
        "\n",
        "  def trainTheModel(self, x, y):\n",
        "    self.weights = self.weights*x+y\n",
        "\n",
        "  def __str__(self):  # Permite ser llamada para entregar información relevante.\n",
        "    return f'This is a {self.name} architecture.'"
      ],
      "execution_count": null,
      "outputs": []
    },
    {
      "cell_type": "code",
      "metadata": {
        "colab": {
          "base_uri": "https://localhost:8080/"
        },
        "id": "g4t0ZJcOaZ1Z",
        "outputId": "3d85f685-112a-4df0-b493-e1b95e252c49"
      },
      "source": [
        "m2 = model2(2,3, 'X')\n",
        "m2.weights"
      ],
      "execution_count": null,
      "outputs": [
        {
          "output_type": "execute_result",
          "data": {
            "text/plain": [
              "array([[-3.36840619,  0.57856453,  2.15252756],\n",
              "       [ 0.56658596,  0.62608036,  1.25479761]])"
            ]
          },
          "metadata": {},
          "execution_count": 100
        }
      ]
    },
    {
      "cell_type": "code",
      "metadata": {
        "colab": {
          "base_uri": "https://localhost:8080/"
        },
        "id": "7JRiNgIOafX_",
        "outputId": "fdcda01b-9ec2-4154-cb67-c56698534a46"
      },
      "source": [
        "m2.trainTheModel(2,3)  # Se agrandarán más y más los valores ya que estan siendo multimplicados\n",
        "m2.weights"
      ],
      "execution_count": null,
      "outputs": [
        {
          "output_type": "execute_result",
          "data": {
            "text/plain": [
              "array([[-4.47362476, 11.31425813, 17.61011024],\n",
              "       [11.26634385, 11.50432144, 14.01919042]])"
            ]
          },
          "metadata": {},
          "execution_count": 103
        }
      ]
    },
    {
      "cell_type": "code",
      "metadata": {
        "colab": {
          "base_uri": "https://localhost:8080/"
        },
        "id": "oGFNT5WBaw4x",
        "outputId": "9100311b-965e-40d8-b9da-8a352557b96a"
      },
      "source": [
        "m2.trainTheModel(.2, 0)  # Acá acercamos los valores a 0\n",
        "m2.weights"
      ],
      "execution_count": null,
      "outputs": [
        {
          "output_type": "execute_result",
          "data": {
            "text/plain": [
              "array([[-0.0071578 ,  0.01810281,  0.02817618],\n",
              "       [ 0.01802615,  0.01840691,  0.0224307 ]])"
            ]
          },
          "metadata": {},
          "execution_count": 107
        }
      ]
    },
    {
      "cell_type": "markdown",
      "metadata": {
        "id": "bQpdbMzElAmZ"
      },
      "source": [
        "---\n",
        "#Flow Control\n",
        "---"
      ]
    },
    {
      "cell_type": "code",
      "metadata": {
        "id": "pTlBIvAXa9Ug",
        "colab": {
          "base_uri": "https://localhost:8080/"
        },
        "outputId": "85aaae9f-701b-4791-c4e2-cd72fea395d3"
      },
      "source": [
        "# If statements\n",
        "# conditional\n",
        "if True:\n",
        "  print(\"This is True!\")\n",
        "if False: # Si la Condicion es Falsa, lo que evalue no será considerado\n",
        "  print(\"This is False!\")"
      ],
      "execution_count": null,
      "outputs": [
        {
          "output_type": "stream",
          "name": "stdout",
          "text": [
            "This is True!\n"
          ]
        }
      ]
    },
    {
      "cell_type": "code",
      "metadata": {
        "colab": {
          "base_uri": "https://localhost:8080/"
        },
        "id": "xZ27Fgu7lPM0",
        "outputId": "43ef5f5f-c327-4b14-f3d7-4f2ef4ad5391"
      },
      "source": [
        "from google.colab import drive\n",
        "drive.mount('/content/drive')"
      ],
      "execution_count": null,
      "outputs": [
        {
          "output_type": "stream",
          "name": "stdout",
          "text": [
            "Mounted at /content/drive\n"
          ]
        }
      ]
    },
    {
      "cell_type": "code",
      "metadata": {
        "colab": {
          "base_uri": "https://localhost:8080/"
        },
        "id": "eSKbTYRcmaxo",
        "outputId": "48d30d28-4fda-4b31-92ed-cdf202e12d73"
      },
      "source": [
        "%cd /content/drive/MyDrive/Github/\n"
      ],
      "execution_count": null,
      "outputs": [
        {
          "output_type": "stream",
          "name": "stdout",
          "text": [
            "[Errno 2] No such file or directory: '/content/drive/MyDrive/Github/'\n",
            "/content\n"
          ]
        }
      ]
    },
    {
      "cell_type": "code",
      "metadata": {
        "id": "yvizaaNJm6M-"
      },
      "source": [
        ""
      ],
      "execution_count": null,
      "outputs": []
    }
  ]
}